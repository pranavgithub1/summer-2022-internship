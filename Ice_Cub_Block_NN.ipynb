{
 "cells": [
  {
   "cell_type": "code",
   "execution_count": 4,
   "id": "ada22f20-7155-4878-b654-7ebfe7ed1f5a",
   "metadata": {},
   "outputs": [],
   "source": [
    "import pandas as pd\n",
    "import tensorflow as tf\n",
    "from tensorflow import keras\n",
    "from tensorflow.keras import layers\n",
    "from sklearn.model_selection import train_test_split\n",
    "from sklearn import preprocessing\n",
    "import numpy as np\n",
    "import matplotlib.pyplot as plt\n",
    "from xgboost import XGBRegressor\n",
    "from sklearn.metrics import mean_squared_error\n",
    "# from scikeras.wrappers import KerasRegressor\n",
    "from sklearn.model_selection import GridSearchCV\n",
    "from sklearn.model_selection import cross_val_score"
   ]
  },
  {
   "cell_type": "code",
   "execution_count": 5,
   "id": "375c8885-18ec-4b4f-afa7-78a8a51d770d",
   "metadata": {},
   "outputs": [
    {
     "name": "stdout",
     "output_type": "stream",
     "text": [
      "(20544, 21)\n"
     ]
    }
   ],
   "source": [
    "# DATA_DIR = \"Ice_Cub_Block_4.csv\"\n",
    "# dataset = pd.read_csv(DATA_DIR)\n",
    "# dataset.drop(dataset.filter(like=\"L\").columns, axis=1, inplace=True)\n",
    "DATA_DIR = \"Ice_Cub_Block.csv\"\n",
    "# DATA_DIR1 = \"ice_cub_block_CM.csv\"\n",
    "# dataset1 = pd.read_csv(DATA_DIR)\n",
    "# dataset2 = pd.read_csv(\"H3O_block.csv\")\n",
    "# print(dataset1.shape, dataset2.shape)\n",
    "# dataset2 = dataset2[~dataset2.eq(10000).any(1)]\n",
    "# dataset1 = dataset1[~dataset1.eq(10000).any(1)]\n",
    "# print(dataset1.shape, dataset2.shape)\n",
    "\n",
    "# dataset = pd.concat([dataset1, dataset2], ignore_index=True)\n",
    "dataset = pd.read_csv(DATA_DIR)\n",
    "# dataset1 = pd.read_csv(DATA_DIR1)\n",
    "print(dataset.shape)"
   ]
  },
  {
   "cell_type": "code",
   "execution_count": 6,
   "id": "564e6dfb-3e03-4e6a-bdb0-a62ff2b0322b",
   "metadata": {},
   "outputs": [
    {
     "data": {
      "text/html": [
       "<div>\n",
       "<style scoped>\n",
       "    .dataframe tbody tr th:only-of-type {\n",
       "        vertical-align: middle;\n",
       "    }\n",
       "\n",
       "    .dataframe tbody tr th {\n",
       "        vertical-align: top;\n",
       "    }\n",
       "\n",
       "    .dataframe thead th {\n",
       "        text-align: right;\n",
       "    }\n",
       "</style>\n",
       "<table border=\"1\" class=\"dataframe\">\n",
       "  <thead>\n",
       "    <tr style=\"text-align: right;\">\n",
       "      <th></th>\n",
       "      <th>C0</th>\n",
       "      <th>B0</th>\n",
       "      <th>L0_1</th>\n",
       "      <th>L0_2</th>\n",
       "      <th>L0_3</th>\n",
       "      <th>C1</th>\n",
       "      <th>B1</th>\n",
       "      <th>L1_1</th>\n",
       "      <th>L1_2</th>\n",
       "      <th>L1_3</th>\n",
       "      <th>...</th>\n",
       "      <th>B2</th>\n",
       "      <th>L2_1</th>\n",
       "      <th>L2_2</th>\n",
       "      <th>L2_3</th>\n",
       "      <th>C3</th>\n",
       "      <th>B3</th>\n",
       "      <th>L3_1</th>\n",
       "      <th>L3_2</th>\n",
       "      <th>L3_3</th>\n",
       "      <th>S-integral</th>\n",
       "    </tr>\n",
       "  </thead>\n",
       "  <tbody>\n",
       "    <tr>\n",
       "      <th>0</th>\n",
       "      <td>0.979261</td>\n",
       "      <td>1.618141</td>\n",
       "      <td>0.983214</td>\n",
       "      <td>1.011566</td>\n",
       "      <td>1.739166</td>\n",
       "      <td>1.056929</td>\n",
       "      <td>1.940873</td>\n",
       "      <td>0.996113</td>\n",
       "      <td>1.002606</td>\n",
       "      <td>1.673609</td>\n",
       "      <td>...</td>\n",
       "      <td>1.024210</td>\n",
       "      <td>1.035154</td>\n",
       "      <td>1.712423</td>\n",
       "      <td>1.857599</td>\n",
       "      <td>1.994728</td>\n",
       "      <td>0.986468</td>\n",
       "      <td>0.963554</td>\n",
       "      <td>1.617049</td>\n",
       "      <td>1.927436</td>\n",
       "      <td>-20.251655</td>\n",
       "    </tr>\n",
       "    <tr>\n",
       "      <th>1</th>\n",
       "      <td>0.916680</td>\n",
       "      <td>1.685511</td>\n",
       "      <td>1.003966</td>\n",
       "      <td>1.005907</td>\n",
       "      <td>1.833427</td>\n",
       "      <td>1.011820</td>\n",
       "      <td>1.594906</td>\n",
       "      <td>1.040008</td>\n",
       "      <td>1.050460</td>\n",
       "      <td>2.030146</td>\n",
       "      <td>...</td>\n",
       "      <td>0.983214</td>\n",
       "      <td>1.011566</td>\n",
       "      <td>1.618141</td>\n",
       "      <td>1.739166</td>\n",
       "      <td>1.814020</td>\n",
       "      <td>1.028515</td>\n",
       "      <td>1.048402</td>\n",
       "      <td>1.731255</td>\n",
       "      <td>1.845230</td>\n",
       "      <td>-20.995382</td>\n",
       "    </tr>\n",
       "    <tr>\n",
       "      <th>2</th>\n",
       "      <td>0.939945</td>\n",
       "      <td>1.673609</td>\n",
       "      <td>0.996113</td>\n",
       "      <td>1.002606</td>\n",
       "      <td>1.940873</td>\n",
       "      <td>1.023201</td>\n",
       "      <td>1.774027</td>\n",
       "      <td>0.982671</td>\n",
       "      <td>1.001479</td>\n",
       "      <td>1.720130</td>\n",
       "      <td>...</td>\n",
       "      <td>0.986993</td>\n",
       "      <td>0.998493</td>\n",
       "      <td>1.742922</td>\n",
       "      <td>1.830239</td>\n",
       "      <td>1.842439</td>\n",
       "      <td>1.040008</td>\n",
       "      <td>1.050460</td>\n",
       "      <td>1.594906</td>\n",
       "      <td>2.030146</td>\n",
       "      <td>-21.253033</td>\n",
       "    </tr>\n",
       "    <tr>\n",
       "      <th>3</th>\n",
       "      <td>0.949274</td>\n",
       "      <td>1.580471</td>\n",
       "      <td>1.006289</td>\n",
       "      <td>1.007837</td>\n",
       "      <td>1.930799</td>\n",
       "      <td>1.034273</td>\n",
       "      <td>1.826111</td>\n",
       "      <td>0.969066</td>\n",
       "      <td>0.997273</td>\n",
       "      <td>1.889906</td>\n",
       "      <td>...</td>\n",
       "      <td>1.019325</td>\n",
       "      <td>1.014644</td>\n",
       "      <td>1.764946</td>\n",
       "      <td>1.775375</td>\n",
       "      <td>1.856382</td>\n",
       "      <td>0.996113</td>\n",
       "      <td>1.002606</td>\n",
       "      <td>1.673609</td>\n",
       "      <td>1.940873</td>\n",
       "      <td>-20.559805</td>\n",
       "    </tr>\n",
       "    <tr>\n",
       "      <th>4</th>\n",
       "      <td>0.969066</td>\n",
       "      <td>1.612425</td>\n",
       "      <td>0.929527</td>\n",
       "      <td>1.029291</td>\n",
       "      <td>1.877435</td>\n",
       "      <td>0.997273</td>\n",
       "      <td>1.893689</td>\n",
       "      <td>0.954752</td>\n",
       "      <td>1.023086</td>\n",
       "      <td>1.902538</td>\n",
       "      <td>...</td>\n",
       "      <td>1.034273</td>\n",
       "      <td>0.949274</td>\n",
       "      <td>1.611584</td>\n",
       "      <td>1.856382</td>\n",
       "      <td>1.889906</td>\n",
       "      <td>0.927566</td>\n",
       "      <td>1.028822</td>\n",
       "      <td>1.485667</td>\n",
       "      <td>1.603122</td>\n",
       "      <td>-20.833009</td>\n",
       "    </tr>\n",
       "    <tr>\n",
       "      <th>...</th>\n",
       "      <td>...</td>\n",
       "      <td>...</td>\n",
       "      <td>...</td>\n",
       "      <td>...</td>\n",
       "      <td>...</td>\n",
       "      <td>...</td>\n",
       "      <td>...</td>\n",
       "      <td>...</td>\n",
       "      <td>...</td>\n",
       "      <td>...</td>\n",
       "      <td>...</td>\n",
       "      <td>...</td>\n",
       "      <td>...</td>\n",
       "      <td>...</td>\n",
       "      <td>...</td>\n",
       "      <td>...</td>\n",
       "      <td>...</td>\n",
       "      <td>...</td>\n",
       "      <td>...</td>\n",
       "      <td>...</td>\n",
       "      <td>...</td>\n",
       "    </tr>\n",
       "    <tr>\n",
       "      <th>20539</th>\n",
       "      <td>0.992128</td>\n",
       "      <td>1.788552</td>\n",
       "      <td>0.984071</td>\n",
       "      <td>1.007439</td>\n",
       "      <td>1.870200</td>\n",
       "      <td>1.017163</td>\n",
       "      <td>1.707009</td>\n",
       "      <td>1.019434</td>\n",
       "      <td>1.053110</td>\n",
       "      <td>1.782090</td>\n",
       "      <td>...</td>\n",
       "      <td>0.968668</td>\n",
       "      <td>0.984715</td>\n",
       "      <td>1.719198</td>\n",
       "      <td>1.755522</td>\n",
       "      <td>1.896964</td>\n",
       "      <td>0.971194</td>\n",
       "      <td>1.004885</td>\n",
       "      <td>1.676530</td>\n",
       "      <td>1.681851</td>\n",
       "      <td>-20.579974</td>\n",
       "    </tr>\n",
       "    <tr>\n",
       "      <th>20540</th>\n",
       "      <td>1.019434</td>\n",
       "      <td>1.689866</td>\n",
       "      <td>0.938273</td>\n",
       "      <td>1.052223</td>\n",
       "      <td>1.786264</td>\n",
       "      <td>1.053110</td>\n",
       "      <td>1.685641</td>\n",
       "      <td>1.013320</td>\n",
       "      <td>1.016895</td>\n",
       "      <td>1.930521</td>\n",
       "      <td>...</td>\n",
       "      <td>1.017163</td>\n",
       "      <td>0.992128</td>\n",
       "      <td>1.770686</td>\n",
       "      <td>1.896964</td>\n",
       "      <td>1.782090</td>\n",
       "      <td>1.034827</td>\n",
       "      <td>0.983528</td>\n",
       "      <td>1.787396</td>\n",
       "      <td>2.026481</td>\n",
       "      <td>-20.507654</td>\n",
       "    </tr>\n",
       "    <tr>\n",
       "      <th>20541</th>\n",
       "      <td>1.010274</td>\n",
       "      <td>2.050928</td>\n",
       "      <td>0.972604</td>\n",
       "      <td>1.029597</td>\n",
       "      <td>1.468544</td>\n",
       "      <td>1.070442</td>\n",
       "      <td>1.670460</td>\n",
       "      <td>0.976442</td>\n",
       "      <td>1.051688</td>\n",
       "      <td>1.743443</td>\n",
       "      <td>...</td>\n",
       "      <td>1.027450</td>\n",
       "      <td>0.990752</td>\n",
       "      <td>1.625772</td>\n",
       "      <td>1.868849</td>\n",
       "      <td>1.734422</td>\n",
       "      <td>1.013320</td>\n",
       "      <td>1.016895</td>\n",
       "      <td>1.685641</td>\n",
       "      <td>1.930521</td>\n",
       "      <td>-20.872226</td>\n",
       "    </tr>\n",
       "    <tr>\n",
       "      <th>20542</th>\n",
       "      <td>0.958125</td>\n",
       "      <td>1.836311</td>\n",
       "      <td>1.008226</td>\n",
       "      <td>1.024254</td>\n",
       "      <td>2.017499</td>\n",
       "      <td>1.001036</td>\n",
       "      <td>1.625772</td>\n",
       "      <td>0.990752</td>\n",
       "      <td>1.027450</td>\n",
       "      <td>1.868849</td>\n",
       "      <td>...</td>\n",
       "      <td>1.006024</td>\n",
       "      <td>1.080994</td>\n",
       "      <td>1.719751</td>\n",
       "      <td>1.910661</td>\n",
       "      <td>1.953523</td>\n",
       "      <td>1.041880</td>\n",
       "      <td>1.005815</td>\n",
       "      <td>1.828779</td>\n",
       "      <td>1.892945</td>\n",
       "      <td>-20.672962</td>\n",
       "    </tr>\n",
       "    <tr>\n",
       "      <th>20543</th>\n",
       "      <td>0.971194</td>\n",
       "      <td>1.896964</td>\n",
       "      <td>0.992128</td>\n",
       "      <td>1.017163</td>\n",
       "      <td>1.770686</td>\n",
       "      <td>1.004885</td>\n",
       "      <td>1.746831</td>\n",
       "      <td>0.925159</td>\n",
       "      <td>1.035007</td>\n",
       "      <td>1.825506</td>\n",
       "      <td>...</td>\n",
       "      <td>0.990752</td>\n",
       "      <td>1.027450</td>\n",
       "      <td>1.625772</td>\n",
       "      <td>1.868849</td>\n",
       "      <td>1.681851</td>\n",
       "      <td>1.057259</td>\n",
       "      <td>1.005352</td>\n",
       "      <td>1.434388</td>\n",
       "      <td>1.729811</td>\n",
       "      <td>-21.848089</td>\n",
       "    </tr>\n",
       "  </tbody>\n",
       "</table>\n",
       "<p>20544 rows × 21 columns</p>\n",
       "</div>"
      ],
      "text/plain": [
       "             C0        B0      L0_1      L0_2      L0_3        C1        B1  \\\n",
       "0      0.979261  1.618141  0.983214  1.011566  1.739166  1.056929  1.940873   \n",
       "1      0.916680  1.685511  1.003966  1.005907  1.833427  1.011820  1.594906   \n",
       "2      0.939945  1.673609  0.996113  1.002606  1.940873  1.023201  1.774027   \n",
       "3      0.949274  1.580471  1.006289  1.007837  1.930799  1.034273  1.826111   \n",
       "4      0.969066  1.612425  0.929527  1.029291  1.877435  0.997273  1.893689   \n",
       "...         ...       ...       ...       ...       ...       ...       ...   \n",
       "20539  0.992128  1.788552  0.984071  1.007439  1.870200  1.017163  1.707009   \n",
       "20540  1.019434  1.689866  0.938273  1.052223  1.786264  1.053110  1.685641   \n",
       "20541  1.010274  2.050928  0.972604  1.029597  1.468544  1.070442  1.670460   \n",
       "20542  0.958125  1.836311  1.008226  1.024254  2.017499  1.001036  1.625772   \n",
       "20543  0.971194  1.896964  0.992128  1.017163  1.770686  1.004885  1.746831   \n",
       "\n",
       "           L1_1      L1_2      L1_3  ...        B2      L2_1      L2_2  \\\n",
       "0      0.996113  1.002606  1.673609  ...  1.024210  1.035154  1.712423   \n",
       "1      1.040008  1.050460  2.030146  ...  0.983214  1.011566  1.618141   \n",
       "2      0.982671  1.001479  1.720130  ...  0.986993  0.998493  1.742922   \n",
       "3      0.969066  0.997273  1.889906  ...  1.019325  1.014644  1.764946   \n",
       "4      0.954752  1.023086  1.902538  ...  1.034273  0.949274  1.611584   \n",
       "...         ...       ...       ...  ...       ...       ...       ...   \n",
       "20539  1.019434  1.053110  1.782090  ...  0.968668  0.984715  1.719198   \n",
       "20540  1.013320  1.016895  1.930521  ...  1.017163  0.992128  1.770686   \n",
       "20541  0.976442  1.051688  1.743443  ...  1.027450  0.990752  1.625772   \n",
       "20542  0.990752  1.027450  1.868849  ...  1.006024  1.080994  1.719751   \n",
       "20543  0.925159  1.035007  1.825506  ...  0.990752  1.027450  1.625772   \n",
       "\n",
       "           L2_3        C3        B3      L3_1      L3_2      L3_3  S-integral  \n",
       "0      1.857599  1.994728  0.986468  0.963554  1.617049  1.927436  -20.251655  \n",
       "1      1.739166  1.814020  1.028515  1.048402  1.731255  1.845230  -20.995382  \n",
       "2      1.830239  1.842439  1.040008  1.050460  1.594906  2.030146  -21.253033  \n",
       "3      1.775375  1.856382  0.996113  1.002606  1.673609  1.940873  -20.559805  \n",
       "4      1.856382  1.889906  0.927566  1.028822  1.485667  1.603122  -20.833009  \n",
       "...         ...       ...       ...       ...       ...       ...         ...  \n",
       "20539  1.755522  1.896964  0.971194  1.004885  1.676530  1.681851  -20.579974  \n",
       "20540  1.896964  1.782090  1.034827  0.983528  1.787396  2.026481  -20.507654  \n",
       "20541  1.868849  1.734422  1.013320  1.016895  1.685641  1.930521  -20.872226  \n",
       "20542  1.910661  1.953523  1.041880  1.005815  1.828779  1.892945  -20.672962  \n",
       "20543  1.868849  1.681851  1.057259  1.005352  1.434388  1.729811  -21.848089  \n",
       "\n",
       "[20544 rows x 21 columns]"
      ]
     },
     "execution_count": 6,
     "metadata": {},
     "output_type": "execute_result"
    }
   ],
   "source": [
    "# Feature Engineering\n",
    "# dataset[\"C-avg\"] = (dataset[\"C0\"] + dataset[\"C1\"] + dataset[\"C2\"] + dataset[\"C3\"]) / 4\n",
    "# dataset[\"B-avg\"] = (dataset[\"B0\"] + dataset[\"B1\"] + dataset[\"B2\"] + dataset[\"B3\"]) / 4\n",
    "# dataset[\"L-avg\"] = dataset.filter(like=\"L\").sum(axis=1) / len(dataset.filter(like=\"L\").columns)\n",
    "# dataset[\"CB_ratio\"] = dataset[\"C-avg\"] / dataset[\"B-avg\"]\n",
    "# for i in range(4):\n",
    "#     dataset[f\"CB_sum_{i}\"] = dataset[f\"C{i}\"] + dataset[f\"B{i}\"]\n",
    "# dataset[\"Hbond-Avg\"] = (dataset[\"C2\"] + dataset[\"C3\"]) / 2\n",
    "# dataset[\"Covbond-Avg\"] = (dataset[\"C0\"] + dataset[\"C1\"]) / 2\n",
    "# dataset[\"C-sphere\"] = ((dataset[[\"C0\", \"C1\", \"C2\", \"C3\"]].max(axis=1)) ** 3) * (4/3) * (3.1415)\n",
    "# print(dataset.columns)\n",
    "dataset"
   ]
  },
  {
   "cell_type": "code",
   "execution_count": 7,
   "id": "6a909fbb-b118-48e7-857d-f2e0678fc4c7",
   "metadata": {},
   "outputs": [],
   "source": [
    "dataset_vals = dataset.values\n",
    "scaler = preprocessing.MinMaxScaler(feature_range=(-1,1))\n",
    "dataset_vals_scaled = scaler.fit_transform(dataset_vals)\n",
    "dataset_scaled = pd.DataFrame(dataset_vals_scaled, columns=dataset.columns)\n",
    "# dataset_scaled = dataset"
   ]
  },
  {
   "cell_type": "code",
   "execution_count": 8,
   "id": "3dd0f2a6-53bc-420d-afaa-514bd5272434",
   "metadata": {},
   "outputs": [],
   "source": [
    "X = dataset_scaled.drop(\"S-integral\", axis=1)\n",
    "y = dataset_scaled[\"S-integral\"]"
   ]
  },
  {
   "cell_type": "code",
   "execution_count": 9,
   "id": "6c025d43-5bb3-412e-84e9-b476b2c6ca08",
   "metadata": {},
   "outputs": [],
   "source": [
    "X_train, X_test, y_train, y_test = train_test_split(X, y, test_size=0.2, random_state=42)\n"
   ]
  },
  {
   "cell_type": "code",
   "execution_count": 10,
   "id": "d73a25d8-37dd-47e9-8244-cf91ba059a05",
   "metadata": {},
   "outputs": [
    {
     "name": "stdout",
     "output_type": "stream",
     "text": [
      "(16435, 20) (4109, 20)\n"
     ]
    }
   ],
   "source": [
    "print(X_train.shape, X_test.shape)"
   ]
  },
  {
   "cell_type": "code",
   "execution_count": 11,
   "id": "416793a3-e88a-4217-acf3-fc00daa650d6",
   "metadata": {},
   "outputs": [],
   "source": [
    "NN = keras.Sequential()\n",
    "NN.add(layers.Dense(20, input_dim=X_train.shape[1], activation='sigmoid', use_bias=True))\n",
    "# NN.add(layers.BatchNormalization())\n",
    "NN.add(layers.Dropout(0.2))\n",
    "NN.add(layers.Dense(40, activation='sigmoid', use_bias=False))\n",
    "# NN.add(layers.BatchNormalization())\n",
    "\n",
    "# NN.add(layers.Dropout(0.2))\n",
    "# NN.add(layers.Dense(20, activation='relu', use_bias=True))\n",
    "# NN.add(layers.Dropout(0.2))\n",
    "NN.add(layers.Dense(1, activation='linear'))"
   ]
  },
  {
   "cell_type": "code",
   "execution_count": 12,
   "id": "25eeaa4c-6a18-4e38-b642-c54f1ab72f8f",
   "metadata": {},
   "outputs": [
    {
     "name": "stdout",
     "output_type": "stream",
     "text": [
      "Model: \"sequential\"\n",
      "_________________________________________________________________\n",
      " Layer (type)                Output Shape              Param #   \n",
      "=================================================================\n",
      " dense (Dense)               (None, 20)                420       \n",
      "                                                                 \n",
      " dropout (Dropout)           (None, 20)                0         \n",
      "                                                                 \n",
      " dense_1 (Dense)             (None, 40)                800       \n",
      "                                                                 \n",
      " dense_2 (Dense)             (None, 1)                 41        \n",
      "                                                                 \n",
      "=================================================================\n",
      "Total params: 1261 (4.93 KB)\n",
      "Trainable params: 1261 (4.93 KB)\n",
      "Non-trainable params: 0 (0.00 Byte)\n",
      "_________________________________________________________________\n"
     ]
    }
   ],
   "source": [
    "NN.summary()"
   ]
  },
  {
   "cell_type": "code",
   "execution_count": 13,
   "id": "8621c88b-5c27-4794-86ca-f490c68c00ad",
   "metadata": {},
   "outputs": [],
   "source": [
    "opt = keras.optimizers.SGD(learning_rate=0.01)\n",
    "NN.compile(\n",
    "    optimizer='adam',\n",
    "    loss=\"mse\",\n",
    "    metrics=[\"mae\"],\n",
    ")"
   ]
  },
  {
   "cell_type": "code",
   "execution_count": 14,
   "id": "8e8e6b0b-f185-46d3-90e4-7c360292dfa4",
   "metadata": {},
   "outputs": [],
   "source": [
    "history = NN.fit(X_train, y_train, validation_data=(X_test, y_test), batch_size=64, epochs=125, verbose=0)"
   ]
  },
  {
   "cell_type": "code",
   "execution_count": 15,
   "id": "adfc5812-8186-47cb-8784-542f904da172",
   "metadata": {},
   "outputs": [
    {
     "data": {
      "text/plain": [
       "<matplotlib.legend.Legend at 0x7fbd9c501990>"
      ]
     },
     "execution_count": 15,
     "metadata": {},
     "output_type": "execute_result"
    },
    {
     "data": {
      "image/png": "[encoded data removed]",
      "text/plain": [
       "<Figure size 640x480 with 1 Axes>"
      ]
     },
     "metadata": {},
     "output_type": "display_data"
    }
   ],
   "source": [
    "plt.plot(history.history['loss'])\n",
    "plt.plot(history.history['val_loss'])\n",
    "plt.legend(['train', 'test'])"
   ]
  },
  {
   "cell_type": "code",
   "execution_count": 16,
   "id": "b864c6ff-9d06-43ab-a437-d39ffe922f5c",
   "metadata": {},
   "outputs": [
    {
     "name": "stdout",
     "output_type": "stream",
     "text": [
      "514/514 [==============================] - 1s 1ms/step - loss: 0.0099 - mae: 0.0786\n",
      "129/129 [==============================] - 0s 1ms/step - loss: 0.0092 - mae: 0.0763\n"
     ]
    },
    {
     "data": {
      "text/plain": [
       "[0.009158533066511154, 0.0763024091720581]"
      ]
     },
     "execution_count": 16,
     "metadata": {},
     "output_type": "execute_result"
    }
   ],
   "source": [
    "NN.evaluate(X_train, y_train)\n",
    "NN.evaluate(X_test, y_test)"
   ]
  },
  {
   "cell_type": "code",
   "execution_count": 17,
   "id": "ee62fbdc-1704-44a3-b61a-e8c9bd9dc2d6",
   "metadata": {},
   "outputs": [
    {
     "name": "stdout",
     "output_type": "stream",
     "text": [
      "129/129 [==============================] - 0s 1ms/step\n"
     ]
    }
   ],
   "source": [
    "y_actual = dataset[\"S-integral\"].loc[y_test.index]\n",
    "y_hat = NN.predict(X_test)\n",
    "y_hat = y_hat.reshape((len(y_hat),))\n",
    "d = dataset_scaled.loc[y_test.index]\n",
    "# print(dataset.head())\n",
    "d[\"S-integral\"] = y_hat\n",
    "d_inv = pd.DataFrame(scaler.inverse_transform(d), columns=d.columns)\n",
    "# d"
   ]
  },
  {
   "cell_type": "code",
   "execution_count": 18,
   "id": "797d72c7-186f-4845-b6e6-38e752e8f899",
   "metadata": {},
   "outputs": [
    {
     "name": "stdout",
     "output_type": "stream",
     "text": [
      "RMSE:  0.23695705301138878\n",
      "NRMSE:  0.061480755219308764\n",
      "RMSPE:  0.031192409756318543\n"
     ]
    }
   ],
   "source": [
    "y_pred = d_inv[\"S-integral\"]\n",
    "# print(y_pred)\n",
    "se = (y_actual.values - y_pred.values) ** 2\n",
    "mse = np.sum(se) / len(se)\n",
    "rmse = np.sqrt(mse)\n",
    "nrmse = rmse /  (max(y_actual) - min(y_actual))\n",
    "rmspe = np.sqrt(np.mean(np.square(((y_actual - y_pred) / y_actual)), axis=0))\n",
    "print(\"RMSE: \",rmse)\n",
    "print(\"NRMSE: \",nrmse)\n",
    "print(\"RMSPE: \",rmspe)"
   ]
  },
  {
   "cell_type": "code",
   "execution_count": 19,
   "id": "0fae6bd9-1d79-4900-9c93-d6ccd2c07099",
   "metadata": {},
   "outputs": [
    {
     "name": "stdout",
     "output_type": "stream",
     "text": [
      "385     -20.603888\n",
      "8164    -20.185517\n",
      "8845    -20.680430\n",
      "13113   -20.678070\n",
      "4032    -20.691776\n",
      "           ...    \n",
      "17696   -20.545984\n",
      "3298    -20.907970\n",
      "13785   -20.999430\n",
      "13724   -21.367382\n",
      "5621    -21.077595\n",
      "Name: S-integral, Length: 4109, dtype: float64\n",
      "0      -20.704091\n",
      "1      -20.179879\n",
      "2      -20.877221\n",
      "3      -21.034407\n",
      "4      -20.522721\n",
      "          ...    \n",
      "4104   -21.030396\n",
      "4105   -20.704586\n",
      "4106   -21.549379\n",
      "4107   -21.466902\n",
      "4108   -20.983555\n",
      "Name: S-integral, Length: 4109, dtype: float64\n"
     ]
    }
   ],
   "source": [
    "print(y_actual)\n",
    "print(y_pred)"
   ]
  },
  {
   "cell_type": "code",
   "execution_count": 20,
   "id": "1249b8f3-d1e9-466b-b821-af9450c1c48a",
   "metadata": {},
   "outputs": [
    {
     "data": {
      "text/plain": [
       "[<matplotlib.lines.Line2D at 0x7fbd9c475ae0>]"
      ]
     },
     "execution_count": 20,
     "metadata": {},
     "output_type": "execute_result"
    },
    {
     "data": {
      "image/png": "[encoded data removed]",
      "text/plain": [
       "<Figure size 640x480 with 1 Axes>"
      ]
     },
     "metadata": {},
     "output_type": "display_data"
    }
   ],
   "source": [
    "plt.scatter(y_actual, y_pred)\n",
    "# plt.plot([min(y_actual), max(y_actual)], [min(y_actual), max(y_actual)])\n",
    "plt.plot([-24, -18],[-24, -18])"
   ]
  },
  {
   "cell_type": "code",
   "execution_count": 18,
   "id": "99e1f026-05a1-432f-b8ee-4756226a7da3",
   "metadata": {},
   "outputs": [
    {
     "data": {
      "text/plain": [
       "[<matplotlib.lines.Line2D at 0x7f912c3c0250>]"
      ]
     },
     "execution_count": 18,
     "metadata": {},
     "output_type": "execute_result"
    },
    {
     "data": {
      "image/png": "[encoded data removed]",
      "text/plain": [
       "<Figure size 432x288 with 1 Axes>"
      ]
     },
     "metadata": {
      "needs_background": "light"
     },
     "output_type": "display_data"
    }
   ],
   "source": [
    "f = 200\n",
    "d = 50\n",
    "plt.plot( np.arange(d),y_actual[f:f+d])\n",
    "plt.plot( np.arange(d),y_pred[f:f+d])"
   ]
  }
 ],
 "metadata": {
  "kernelspec": {
   "display_name": "Python 3 (ipykernel)",
   "language": "python",
   "name": "python3"
  },
  "language_info": {
   "codemirror_mode": {
    "name": "ipython",
    "version": 3
   },
   "file_extension": ".py",
   "mimetype": "text/x-python",
   "name": "python",
   "nbconvert_exporter": "python",
   "pygments_lexer": "ipython3",
   "version": "3.10.12"
  }
 },
 "nbformat": 4,
 "nbformat_minor": 5
}
